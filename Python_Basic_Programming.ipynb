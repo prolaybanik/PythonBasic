{
 "cells": [
  {
   "cell_type": "markdown",
   "metadata": {},
   "source": [
    "# String Example"
   ]
  },
  {
   "cell_type": "markdown",
   "metadata": {},
   "source": [
    "1. Define different types of variables (integer, boolean,\n",
    "string, float, complex) and print their values and their\n",
    "types"
   ]
  },
  {
   "cell_type": "code",
   "execution_count": 1,
   "metadata": {},
   "outputs": [
    {
     "name": "stdout",
     "output_type": "stream",
     "text": [
      "The Value of Interger is:  5\n"
     ]
    },
    {
     "data": {
      "text/plain": [
       "int"
      ]
     },
     "execution_count": 1,
     "metadata": {},
     "output_type": "execute_result"
    }
   ],
   "source": [
    "int_val = 5\n",
    "print(\"The Value of Interger is: \",int_val)\n",
    "type(int_val)"
   ]
  },
  {
   "cell_type": "code",
   "execution_count": 2,
   "metadata": {},
   "outputs": [
    {
     "name": "stdout",
     "output_type": "stream",
     "text": [
      "The Value of Booloean is:  True\n"
     ]
    },
    {
     "data": {
      "text/plain": [
       "bool"
      ]
     },
     "execution_count": 2,
     "metadata": {},
     "output_type": "execute_result"
    }
   ],
   "source": [
    "bool_val = True\n",
    "print(\"The Value of Booloean is: \",bool_val)\n",
    "type(bool_val)"
   ]
  },
  {
   "cell_type": "code",
   "execution_count": 3,
   "metadata": {},
   "outputs": [
    {
     "name": "stdout",
     "output_type": "stream",
     "text": [
      "The Value of String is:  Prolay Banik\n"
     ]
    },
    {
     "data": {
      "text/plain": [
       "str"
      ]
     },
     "execution_count": 3,
     "metadata": {},
     "output_type": "execute_result"
    }
   ],
   "source": [
    "name = \"Prolay Banik\"\n",
    "print(\"The Value of String is: \",name)\n",
    "type(name)"
   ]
  },
  {
   "cell_type": "code",
   "execution_count": 4,
   "metadata": {},
   "outputs": [
    {
     "name": "stdout",
     "output_type": "stream",
     "text": [
      "The Value of Float is:  5.5\n"
     ]
    },
    {
     "data": {
      "text/plain": [
       "float"
      ]
     },
     "execution_count": 4,
     "metadata": {},
     "output_type": "execute_result"
    }
   ],
   "source": [
    "float_val = 5.5\n",
    "print(\"The Value of Float is: \",float_val)\n",
    "type(float_val)"
   ]
  },
  {
   "cell_type": "code",
   "execution_count": 5,
   "metadata": {},
   "outputs": [
    {
     "name": "stdout",
     "output_type": "stream",
     "text": [
      "The Value of Complex Number is:  (3+4j)\n"
     ]
    },
    {
     "data": {
      "text/plain": [
       "complex"
      ]
     },
     "execution_count": 5,
     "metadata": {},
     "output_type": "execute_result"
    }
   ],
   "source": [
    "complx = 3+4j\n",
    "print(\"The Value of Complex Number is: \",complx)\n",
    "type(complx)"
   ]
  },
  {
   "cell_type": "markdown",
   "metadata": {},
   "source": [
    "2. In the above question convert float variable into integer\n",
    "type and integer variable into str type."
   ]
  },
  {
   "cell_type": "code",
   "execution_count": 30,
   "metadata": {},
   "outputs": [
    {
     "name": "stdout",
     "output_type": "stream",
     "text": [
      "After converting float to integer is:  5\n"
     ]
    }
   ],
   "source": [
    "float_to_int = int(float_val)\n",
    "print(\"After converting float into integer is: \",float_to_int)"
   ]
  },
  {
   "cell_type": "code",
   "execution_count": 32,
   "metadata": {},
   "outputs": [
    {
     "name": "stdout",
     "output_type": "stream",
     "text": [
      "After converting integer into String is:  5\n"
     ]
    }
   ],
   "source": [
    "int_to_str = str(int_val)\n",
    "print(\"After converting integer into String is: \",int_to_str)"
   ]
  },
  {
   "cell_type": "markdown",
   "metadata": {},
   "source": [
    "3. What will you get converting “abc” into boolean?"
   ]
  },
  {
   "cell_type": "code",
   "execution_count": 36,
   "metadata": {},
   "outputs": [
    {
     "name": "stdout",
     "output_type": "stream",
     "text": [
      "After converting 'abc' into Boolean is:  True\n"
     ]
    }
   ],
   "source": [
    "str_val = \"abc\"\n",
    "str_to_bool = bool(str_val)\n",
    "print(\"After converting 'abc' into Boolean is: \",str_to_bool)"
   ]
  },
  {
   "cell_type": "markdown",
   "metadata": {},
   "source": [
    "4.  Print the substring from index 2 to index 4 for any given\n",
    "string. For example (llo) from “Hello World”"
   ]
  },
  {
   "cell_type": "code",
   "execution_count": 48,
   "metadata": {},
   "outputs": [
    {
     "name": "stdout",
     "output_type": "stream",
     "text": [
      "The resultant substring is :  ola\n"
     ]
    }
   ],
   "source": [
    "str1 = \"Prolay Banik\"\n",
    "str2 = str1[2:5]\n",
    "print(\"The resultant substring is : \",str2)"
   ]
  },
  {
   "cell_type": "markdown",
   "metadata": {},
   "source": [
    "5.  Write a program to check a substring in a given string.\n",
    "For example 'e' is present in the word 'Umbrella'"
   ]
  },
  {
   "cell_type": "code",
   "execution_count": 55,
   "metadata": {},
   "outputs": [
    {
     "name": "stdout",
     "output_type": "stream",
     "text": [
      "Enter a word: umbrella\n",
      "Enter a letter which you want to find: p\n",
      "NO,string 'p' is not present in string umbrella \n"
     ]
    }
   ],
   "source": [
    "# Here, I've used a regular expression package, re to search\n",
    "import re\n",
    "str3 = str(input(\"Enter a word: \"))\n",
    "str4 = str(input(\"Enter a letter which you want to find: \"))\n",
    "str3 = str3.lower()\n",
    "str4 = str4.lower()\n",
    "# re.search() returns a Match object if there is a match anywhere in the string \n",
    "if re.search( str4, str3 ): \n",
    "    print(\"YES,string '{0}' is present in string '{1}' \" .format(str4,str3)) \n",
    "else: \n",
    "    print(\"NO,string '{0}' is not present in string {1} \" .format(str4, str3) ) \n"
   ]
  },
  {
   "cell_type": "markdown",
   "metadata": {},
   "source": [
    "6. Use the correct comparison operator to check if 5 is not equal to 10."
   ]
  },
  {
   "cell_type": "code",
   "execution_count": 2,
   "metadata": {},
   "outputs": [
    {
     "name": "stdout",
     "output_type": "stream",
     "text": [
      "The comparision result between a & b is:  False\n"
     ]
    }
   ],
   "source": [
    "# Relational Operators\n",
    "a=5\n",
    "b=10\n",
    "# Check if a=b or not\n",
    "print(\"The comparision result between a & b is: \",(a==b))"
   ]
  },
  {
   "cell_type": "markdown",
   "metadata": {},
   "source": [
    "7. Write a program to get a string from the user and sort the words of the string in alphabetical order."
   ]
  },
  {
   "cell_type": "code",
   "execution_count": 6,
   "metadata": {},
   "outputs": [
    {
     "name": "stdout",
     "output_type": "stream",
     "text": [
      "Enter a word: wefafbdieoe\n",
      "String after sorting : abdeeeffiow\n"
     ]
    }
   ],
   "source": [
    "str5 = str(input(\"Enter a word: \"))\n",
    "str6 = ''.join(sorted(str5))\n",
    "print(\"String after sorting : \" + str(str6))"
   ]
  },
  {
   "cell_type": "markdown",
   "metadata": {},
   "source": [
    "8. Join two words using special characters like ‘ – ‘ ,’#’"
   ]
  },
  {
   "cell_type": "code",
   "execution_count": 7,
   "metadata": {},
   "outputs": [
    {
     "name": "stdout",
     "output_type": "stream",
     "text": [
      "Two words joined using special char _ : Prolay_Banik\n",
      "Two words joined using special char # : Prolay#Banik\n",
      "Two words joined using special char $ : Prolay$Banik\n"
     ]
    }
   ],
   "source": [
    "a = 'Prolay'\n",
    "b = 'Banik'\n",
    "print(\"Two words joined using special char _ :\",a+'_'+b)\n",
    "print(\"Two words joined using special char # :\",a+'#'+b)\n",
    "print(\"Two words joined using special char $ :\",a+'$'+b)"
   ]
  },
  {
   "cell_type": "markdown",
   "metadata": {},
   "source": [
    "9. Find all occurrences of “INDIA” in a given string ignoring the case.\n",
    "input_str = \"Welcome to INDIA. india is awesome."
   ]
  },
  {
   "cell_type": "code",
   "execution_count": 13,
   "metadata": {},
   "outputs": [
    {
     "name": "stdout",
     "output_type": "stream",
     "text": [
      "Find all occurrences of “INDIA” in a sentence : 2\n"
     ]
    }
   ],
   "source": [
    "str7 =  \"Welcome to INDIA. india is awesome.\"\n",
    "str7 = str7.upper()\n",
    "# finding occurrences of 'India' in a sentence\n",
    "print(\"Find all occurrences of “INDIA” in a sentence :\",str7.count(\"INDIA\"))"
   ]
  },
  {
   "cell_type": "markdown",
   "metadata": {},
   "source": [
    "10. Replace first two ‘l’ with ‘n’ in ‘Hello World’"
   ]
  },
  {
   "cell_type": "code",
   "execution_count": 24,
   "metadata": {},
   "outputs": [
    {
     "data": {
      "text/plain": [
       "'Henno World'"
      ]
     },
     "execution_count": 24,
     "metadata": {},
     "output_type": "execute_result"
    }
   ],
   "source": [
    "str8 = 'Hello World'\n",
    "str8 = str8.replace('l','n',2)\n",
    "str8"
   ]
  },
  {
   "cell_type": "markdown",
   "metadata": {},
   "source": [
    "11. Write a program that takes your full name as input and displays the abbreviations of the first and middle names except the last name which is displayed as it is. For example, if your name is Robert Brett Roser, then the output should be R.B.Roser."
   ]
  },
  {
   "cell_type": "code",
   "execution_count": 18,
   "metadata": {},
   "outputs": [],
   "source": [
    "# python program to print initials of a name  \n",
    "def name(s): \n",
    "  \n",
    "    # split the string into a list  \n",
    "    l = s.split() \n",
    "    new = \"\" \n",
    "  \n",
    "    # traverse in the list  \n",
    "    for i in range(len(l)-1): \n",
    "        s = l[i] \n",
    "          \n",
    "        # adds the capital first character  \n",
    "        new += (s[0].upper()+'.') \n",
    "          \n",
    "    # l[-1] gives last item of list l. We use title to print first character in capital. \n",
    "    new += l[-1].title() \n",
    "      \n",
    "    return new  "
   ]
  },
  {
   "cell_type": "code",
   "execution_count": 28,
   "metadata": {},
   "outputs": [
    {
     "name": "stdout",
     "output_type": "stream",
     "text": [
      "S.R.Tendulkar\n"
     ]
    }
   ],
   "source": [
    "s = 'sachin ramesh tendulkar'\n",
    "print(name(s))"
   ]
  },
  {
   "cell_type": "markdown",
   "metadata": {},
   "source": [
    "12. Write a program to check if a given string is a Palindrome. A palindrome reads the same from front and back e.g.-\n",
    "aba, ccaacc, mom, etc."
   ]
  },
  {
   "cell_type": "code",
   "execution_count": 29,
   "metadata": {},
   "outputs": [],
   "source": [
    "# function which return reverse of a string \n",
    "  \n",
    "def isPalindrome(s): \n",
    "    return s == s[::-1] \n"
   ]
  },
  {
   "cell_type": "code",
   "execution_count": 32,
   "metadata": {},
   "outputs": [
    {
     "name": "stdout",
     "output_type": "stream",
     "text": [
      "Yes\n"
     ]
    }
   ],
   "source": [
    "s = \"madam\"\n",
    "out = isPalindrome(s)\n",
    "if out: \n",
    "    print(\"Yes\") \n",
    "else: \n",
    "    print(\"No\") "
   ]
  },
  {
   "cell_type": "markdown",
   "metadata": {},
   "source": [
    "# Python Programming - 2\n",
    "### Tuples and Sets"
   ]
  },
  {
   "cell_type": "markdown",
   "metadata": {},
   "source": [
    "1. Write a Python program to add an item in a tuple."
   ]
  },
  {
   "cell_type": "code",
   "execution_count": 37,
   "metadata": {},
   "outputs": [
    {
     "name": "stdout",
     "output_type": "stream",
     "text": [
      "Initial tuple:  (10, 20, 'pralay')\n",
      "After adding a new element in tuple:  (10, 20, 'pralay', 5)\n"
     ]
    }
   ],
   "source": [
    "t1 = 10, 20, 'pralay'\n",
    "print(\"Initial tuple: \",t1)\n",
    "t1=t1 + (5,)\n",
    "print(\"After adding a new element in tuple: \",t1)"
   ]
  },
  {
   "cell_type": "markdown",
   "metadata": {},
   "source": [
    "2. Write a Python program to reverse a tuple."
   ]
  },
  {
   "cell_type": "code",
   "execution_count": 43,
   "metadata": {},
   "outputs": [
    {
     "name": "stdout",
     "output_type": "stream",
     "text": [
      "(5, 'pralay', 20, 10)\n"
     ]
    }
   ],
   "source": [
    "t2=reversed(t1)\n",
    "t2=tuple(t2)\n",
    "print(\"Output after reversing a tuple\",t2)"
   ]
  },
  {
   "cell_type": "markdown",
   "metadata": {},
   "source": [
    "3. Swap the following two tuples\n",
    "tuple1 = (11, 22)\n",
    "tuple2 = (99, 88)"
   ]
  },
  {
   "cell_type": "code",
   "execution_count": 45,
   "metadata": {},
   "outputs": [
    {
     "name": "stdout",
     "output_type": "stream",
     "text": [
      "The original list is : [(11, 22), (99, 88)]\n",
      "The swapped tuple list is : [(22, 11), (88, 99)]\n"
     ]
    }
   ],
   "source": [
    "tuple1 = (11, 22) \n",
    "tuple2 = (99, 88)\n",
    "tup_list = [(11, 22), (99,88)] \n",
    "  \n",
    "# printing original list \n",
    "print(\"The original list is : \" + str(tup_list)) \n",
    "  \n",
    "# Swap tuple elements in list of tuples Using list comprehension \n",
    "output = [(sub[1], sub[0]) for sub in tup_list] \n",
    "          \n",
    "print(\"The swapped tuple list is : \" + str(output)) "
   ]
  },
  {
   "cell_type": "markdown",
   "metadata": {},
   "source": [
    "4.  Modify the first item (22) of a list inside a following tuple to\n",
    "222\n",
    "tuple1 = (11, [22, 33], 44, 55)"
   ]
  },
  {
   "cell_type": "code",
   "execution_count": 54,
   "metadata": {},
   "outputs": [
    {
     "name": "stdout",
     "output_type": "stream",
     "text": [
      "(11, [222, 33], 44, 55)\n"
     ]
    }
   ],
   "source": [
    "# we can't modify an element in a tuple, as tuple is immutable. But we can do that if we can convert it to list,\n",
    "#then modify and convert agian to tuple\n",
    "# Here, I've done this. But, for the answer of Q4 is \"Modification is not possible\"\n",
    "tuple1 = (11, [22, 33], 44, 55)\n",
    "a = list(tuple1)\n",
    "a[1][0] = 222\n",
    "a = tuple(a)\n",
    "print(a)"
   ]
  },
  {
   "cell_type": "markdown",
   "metadata": {},
   "source": [
    "5.  Write a Python program to unpack a tuple in several\n",
    "variables"
   ]
  },
  {
   "cell_type": "code",
   "execution_count": 57,
   "metadata": {},
   "outputs": [
    {
     "name": "stdout",
     "output_type": "stream",
     "text": [
      "DataFolkz\n",
      "30\n",
      "PCDS\n"
     ]
    }
   ],
   "source": [
    "# The tuple elements PACKS values into variable a \n",
    "a = (\"DataFolkz\", 30, \"PCDS\")   \n",
    "  \n",
    "# This UNPACKS values of variable a \n",
    "a = (Institution, Student,Course_name)    \n",
    "  \n",
    "# print Institution name \n",
    "print(Institution) \n",
    "  \n",
    "# print no of student \n",
    "print(Student) \n",
    "  \n",
    "# print type of Course Name \n",
    "print(Course_name) "
   ]
  },
  {
   "cell_type": "markdown",
   "metadata": {},
   "source": [
    "6.  Write a Python program to add member(s) in an empty set."
   ]
  },
  {
   "cell_type": "code",
   "execution_count": 72,
   "metadata": {},
   "outputs": [
    {
     "name": "stdout",
     "output_type": "stream",
     "text": [
      "{0}\n",
      "{0, 5}\n"
     ]
    },
    {
     "data": {
      "text/plain": [
       "set"
      ]
     },
     "execution_count": 72,
     "metadata": {},
     "output_type": "execute_result"
    }
   ],
   "source": [
    "x = set()\n",
    "x.add(0)\n",
    "print(x)\n",
    "x.add(5)\n",
    "print(x)\n",
    "type(x)"
   ]
  },
  {
   "cell_type": "markdown",
   "metadata": {},
   "source": [
    "7.  Write a Python program to create an intersection of sets"
   ]
  },
  {
   "cell_type": "code",
   "execution_count": 73,
   "metadata": {},
   "outputs": [
    {
     "name": "stdout",
     "output_type": "stream",
     "text": [
      "Intersection : {2, 4}\n"
     ]
    }
   ],
   "source": [
    "# Two sets are defined here \n",
    "A = {0, 2, 4, 6, 8}; \n",
    "B = {1, 2, 3, 4, 5}; \n",
    "   \n",
    "# intersection \n",
    "print(\"Intersection :\", A & B) "
   ]
  },
  {
   "cell_type": "markdown",
   "metadata": {},
   "source": [
    "8.  Write a Python program to create a symmetric difference\n",
    "in sets."
   ]
  },
  {
   "cell_type": "code",
   "execution_count": 76,
   "metadata": {},
   "outputs": [
    {
     "name": "stdout",
     "output_type": "stream",
     "text": [
      "symmetric difference between Set A & B is:  {0, 1, 3, 5, 6, 8}\n"
     ]
    }
   ],
   "source": [
    "# Here, I'm using same 2 sets used in previous question, then used the in-built function of symmetric difference\n",
    "print(\"symmetric difference between Set A & B is: \",A.symmetric_difference(B)) "
   ]
  },
  {
   "cell_type": "markdown",
   "metadata": {},
   "source": [
    "9.   Return a set of identical items from a given two Python sets\n",
    "\n",
    "\n",
    "set1 = [10, 20, 30, 40, 50]\n",
    "set2 = [30, 40, 50, 60, 70]"
   ]
  },
  {
   "cell_type": "code",
   "execution_count": 92,
   "metadata": {},
   "outputs": [
    {
     "name": "stdout",
     "output_type": "stream",
     "text": [
      "Identical items from a given two Python sets (Approach1):  {40, 50, 30}\n",
      "Identical items from a given two Python sets (Approach2):  {40, 50, 30}\n"
     ]
    }
   ],
   "source": [
    "set1 = {10, 20, 30, 40, 50}\n",
    "set2 = {30, 40, 50, 60, 70}\n",
    "print(\"Identical items from a given two Python sets (Approach1): \",set1 & set2)\n",
    "print(\"Identical items from a given two Python sets (Approach2): \",set(set1) & set(set2))"
   ]
  },
  {
   "cell_type": "markdown",
   "metadata": {},
   "source": [
    "10. Remove 10, 20, 30 elements from a following set at once\n",
    "\n",
    "set1 = {10, 20, 30, 40, 50}"
   ]
  },
  {
   "cell_type": "code",
   "execution_count": 111,
   "metadata": {},
   "outputs": [
    {
     "data": {
      "text/plain": [
       "{40, 50}"
      ]
     },
     "execution_count": 111,
     "metadata": {},
     "output_type": "execute_result"
    }
   ],
   "source": [
    "set1 = {10, 20, 30, 40, 50}\n",
    "set1.remove(10)  # This will remove one element at a time\n",
    "set1\n",
    "set1.difference_update({10, 20, 30}) # This will remove multiple elements at a time\n",
    "set1"
   ]
  },
  {
   "cell_type": "markdown",
   "metadata": {},
   "source": [
    "11.   Access value 20 from the following tuple\n",
    "example = (\"Pooja\", [10, 20, 30], (25, 50, 15))"
   ]
  },
  {
   "cell_type": "code",
   "execution_count": 113,
   "metadata": {},
   "outputs": [
    {
     "name": "stdout",
     "output_type": "stream",
     "text": [
      "Print 20 from the above example:  20\n"
     ]
    }
   ],
   "source": [
    "tuple1 =  (\"Pooja\", [10, 20, 30], (25, 50, 15))\n",
    "print(\"Print 20 from the above example: \",tuple1[1][1])"
   ]
  },
  {
   "cell_type": "markdown",
   "metadata": {},
   "source": [
    "12.  Count the number of occurrences of item 50 from a tuple\n",
    "numbers = (50, 10, 60, 70, 50)"
   ]
  },
  {
   "cell_type": "code",
   "execution_count": 116,
   "metadata": {},
   "outputs": [
    {
     "name": "stdout",
     "output_type": "stream",
     "text": [
      "The number of occurrences of item 50 from the above tuple example:  2\n"
     ]
    }
   ],
   "source": [
    "tuple10 = (50, 10, 60, 70, 50)\n",
    "a = tuple10.count(50)\n",
    "print(\"The number of occurrences of item 50 from the above tuple example: \",a)"
   ]
  },
  {
   "cell_type": "markdown",
   "metadata": {},
   "source": [
    "# Python Programming - 3\n",
    "\n",
    "### Lists"
   ]
  },
  {
   "cell_type": "markdown",
   "metadata": {},
   "source": [
    "1. City = [‘Gurgaon’, ’Mumbai’, ’Bangalore’]\n",
    "\n",
    "i) Print the second item from the list.\n",
    "\n",
    "ii) Change the value from \"Gurgaon\" to \"Kerala\"\n",
    "\n",
    "iii) Remove the last element of the list."
   ]
  },
  {
   "cell_type": "code",
   "execution_count": 131,
   "metadata": {},
   "outputs": [
    {
     "name": "stdout",
     "output_type": "stream",
     "text": [
      "Print second item from the list:  Mumbai\n",
      "Print the changed value of 1st element:  ['Kerala', 'Mumbai', 'Bangalore']\n",
      "Remove last elment from the list:  ['Kerala', 'Mumbai']\n"
     ]
    }
   ],
   "source": [
    "City = ['Gurgaon', 'Mumbai', 'Bangalore']\n",
    "print(\"Print second item from the list: \",City[1])\n",
    "City[0]='Kerala'\n",
    "print(\"Print the changed value of 1st element: \",City)\n",
    "del City[-1]\n",
    "print(\"Remove last elment from the list: \",City)"
   ]
  },
  {
   "cell_type": "markdown",
   "metadata": {},
   "source": [
    "2. Use negative indexing to print the last item in the list. Make\n",
    "a list by yourself."
   ]
  },
  {
   "cell_type": "code",
   "execution_count": 133,
   "metadata": {},
   "outputs": [
    {
     "name": "stdout",
     "output_type": "stream",
     "text": [
      "Use negative indexing to print the last item from the above list:  Nainital\n"
     ]
    }
   ],
   "source": [
    "myVisit = ['Kolkata', 'Mumbai', 'Ahmedabad','Gandhinagar','Delhi','Shimla','Spiti','Nainital']\n",
    "print(\"Use negative indexing to print the last item from the above list: \",myVisit[-1])"
   ]
  },
  {
   "cell_type": "markdown",
   "metadata": {},
   "source": [
    "3. Use a range of indexes to print the third, fourth, and fifth\n",
    "item in the list. Make a list by yourself."
   ]
  },
  {
   "cell_type": "code",
   "execution_count": 134,
   "metadata": {},
   "outputs": [
    {
     "name": "stdout",
     "output_type": "stream",
     "text": [
      "A range of indexes to print the third, fourth, and fifth item in the above list:  Ahmedabad & Gandhinagar & Delhi\n"
     ]
    }
   ],
   "source": [
    "print(\"A range of indexes to print the third,fourth,and fifth item in the above list: \",myVisit[2]+' & '+myVisit[3]+' & '+myVisit[4])"
   ]
  },
  {
   "cell_type": "markdown",
   "metadata": {},
   "source": [
    "4. Remove the last element from the city list"
   ]
  },
  {
   "cell_type": "code",
   "execution_count": 137,
   "metadata": {},
   "outputs": [
    {
     "name": "stdout",
     "output_type": "stream",
     "text": [
      "Remove the last elment from the City list:  ['Gurgaon', 'Mumbai']\n"
     ]
    }
   ],
   "source": [
    "City = ['Gurgaon', 'Mumbai', 'Bangalore']\n",
    "del City[-1]\n",
    "print(\"Remove the last elment from the City list: \",City)"
   ]
  },
  {
   "cell_type": "markdown",
   "metadata": {},
   "source": [
    "5.   fruits=[‘apple’,’lichi’,’guava’,’cherry’,’mango’,’watermelon’,’banana’]\n",
    "\n",
    "i) Add \"orange\" at the end of the above list.\n",
    "\n",
    "ii) Add \"lemon\" as the second item in the fruits list"
   ]
  },
  {
   "cell_type": "code",
   "execution_count": 142,
   "metadata": {},
   "outputs": [
    {
     "name": "stdout",
     "output_type": "stream",
     "text": [
      "Add 'orange' at the end of the above list:  ['apple', 'lichi', 'guava', 'cherry', 'mango', 'watermelon', 'banana', 'orange']\n",
      "Add 'lemon' at the second item of the above list:  ['apple', 'lemon', 'lichi', 'guava', 'cherry', 'mango', 'watermelon', 'banana', 'orange']\n"
     ]
    }
   ],
   "source": [
    "fruits=['apple','lichi','guava','cherry','mango','watermelon','banana']\n",
    "fruits.append('orange')\n",
    "print(\"Add 'orange' at the end of the above list: \",fruits)\n",
    "fruits.insert(1,'lemon')\n",
    "print(\"Add 'lemon' at the second item of the above list: \",fruits)"
   ]
  },
  {
   "cell_type": "markdown",
   "metadata": {},
   "source": [
    "6.  Remove ‘cherry’ from the fruit list given above."
   ]
  },
  {
   "cell_type": "code",
   "execution_count": 144,
   "metadata": {},
   "outputs": [
    {
     "name": "stdout",
     "output_type": "stream",
     "text": [
      "Remove ‘cherry’ from the fruit list given above:  ['apple', 'lemon', 'lichi', 'guava', 'mango', 'watermelon', 'banana', 'orange']\n"
     ]
    }
   ],
   "source": [
    "fruits.remove('cherry')\n",
    "print(\"Remove ‘cherry’ from the fruit list given above: \",fruits)"
   ]
  },
  {
   "cell_type": "markdown",
   "metadata": {},
   "source": [
    "7.  Write the python program to let the user input a list of\n",
    "numbers and print the list in descending order."
   ]
  },
  {
   "cell_type": "code",
   "execution_count": 151,
   "metadata": {},
   "outputs": [
    {
     "name": "stdout",
     "output_type": "stream",
     "text": [
      "Enter number of elements : 3\n",
      "16\n",
      "5\n",
      "48\n",
      "The list provided by the user:  [16, 5, 48]\n",
      "The list in reverse order:  [48, 16, 5]\n"
     ]
    }
   ],
   "source": [
    "lst = [] \n",
    "  \n",
    "# number of elemetns as input \n",
    "n = int(input(\"Enter number of elements : \")) \n",
    "  \n",
    "# iterating till the range \n",
    "for i in range(0, n): \n",
    "    ele = int(input()) \n",
    "  \n",
    "    lst.append(ele) # adding the element \n",
    "      \n",
    "print(\"The list provided by the user: \",lst) \n",
    "lst.sort(reverse = True)\n",
    "print(\"The list in reverse order: \",lst)"
   ]
  },
  {
   "cell_type": "markdown",
   "metadata": {},
   "source": [
    "8.  Write the python program to let the user input two lists and\n",
    "combine both the lists."
   ]
  },
  {
   "cell_type": "code",
   "execution_count": 191,
   "metadata": {},
   "outputs": [
    {
     "name": "stdout",
     "output_type": "stream",
     "text": [
      "Enter number of elements for 1st list: 5\n",
      "5\n",
      "12\n",
      "26\n",
      "45\n",
      "12\n",
      "Enter number of elements for 2nd list: 2\n",
      "30\n",
      "40\n",
      "The 1st list provided by the user:  [5, 12, 26, 45, 12]\n",
      "The 2nd list provided by the user:  [30, 40]\n",
      "Combine both the list:  [5, 12, 26, 45, 12, 30, 40]\n"
     ]
    }
   ],
   "source": [
    "lst1 = [] \n",
    "lst2 = []  \n",
    "# number of elemetns as input \n",
    "n1 = int(input(\"Enter number of elements for 1st list: \")) \n",
    "  \n",
    "# iterating till the range \n",
    "for i in range(0, n1): \n",
    "    ele1 = int(input()) \n",
    "  \n",
    "    lst1.append(ele1) # adding the element \n",
    "n2 = int(input(\"Enter number of elements for 2nd list: \")) \n",
    "  \n",
    "# iterating till the range \n",
    "for j in range(0, n2): \n",
    "    ele2 = int(input()) \n",
    "  \n",
    "    lst2.append(ele2) # adding the element      \n",
    "print(\"The 1st list provided by the user: \",lst1) \n",
    "print(\"The 2nd list provided by the user: \",lst2) \n",
    "lst3 = lst1 + lst2\n",
    "print(\"Combine both the list: \",lst3)"
   ]
  },
  {
   "cell_type": "markdown",
   "metadata": {},
   "source": [
    "9.   List = [10, 45, 78, 11, 9, 23]. Shuffle this list."
   ]
  },
  {
   "cell_type": "code",
   "execution_count": 190,
   "metadata": {},
   "outputs": [
    {
     "name": "stdout",
     "output_type": "stream",
     "text": [
      "After Shuffling the list will be:  [10, 23, 78, 45, 9, 11]\n"
     ]
    }
   ],
   "source": [
    "import random\n",
    "list_shuf = [10, 45, 78, 11, 9, 23]\n",
    "random.shuffle(list_shuf)\n",
    "print(\"After Shuffling the list will be: \",list_shuf)"
   ]
  },
  {
   "cell_type": "markdown",
   "metadata": {},
   "source": [
    "10.  x = [10, [3.141, 20, [30, 'baz', 2.718]], 'foo']\n",
    "\n",
    "i) What is the expression that returns the 'z' in 'baz'?\n",
    "\n",
    "ii) What expression returns the list ['baz', 2.718]?"
   ]
  },
  {
   "cell_type": "code",
   "execution_count": 202,
   "metadata": {},
   "outputs": [
    {
     "name": "stdout",
     "output_type": "stream",
     "text": [
      "The expression that returns the ' z ' in 'baz' is: 'x[1][2][1][2]'\n",
      "The expression returns the list  ['baz', 2.718]  is: 'x[1][2][1:3]'\n"
     ]
    }
   ],
   "source": [
    "x = [10,[3.141,20,[30,'baz',2.718]],'foo']\n",
    "print(\"The expression that returns the '\",x[1][2][1][2],\"' in 'baz' is: 'x[1][2][1][2]'\")\n",
    "print(\"The expression returns the list \",x[1][2][1:3],\" is: 'x[1][2][1:3]'\")"
   ]
  },
  {
   "cell_type": "markdown",
   "metadata": {},
   "source": [
    "11. Extract element 20 from the above list."
   ]
  },
  {
   "cell_type": "code",
   "execution_count": 205,
   "metadata": {},
   "outputs": [
    {
     "name": "stdout",
     "output_type": "stream",
     "text": [
      "The expression which extract  20  from the above list: x[1][1]\n"
     ]
    }
   ],
   "source": [
    "print(\"The expression which extract \",x[1][1],\" from the above list: x[1][1]\")"
   ]
  },
  {
   "cell_type": "markdown",
   "metadata": {},
   "source": [
    "12.  You have a list a = [1, 2, 7, 8]\n",
    "\n",
    "Write a Python statement using slice assignment that will fill in the missing values so that a equals [1, 2, 3, 4, 5, 6, 7, 8]"
   ]
  },
  {
   "cell_type": "code",
   "execution_count": null,
   "metadata": {},
   "outputs": [],
   "source": []
  },
  {
   "cell_type": "markdown",
   "metadata": {},
   "source": [
    "# Python Programming - 4\n",
    "### Dictionary"
   ]
  },
  {
   "cell_type": "markdown",
   "metadata": {},
   "source": [
    "Given a dictionary:\n",
    "car = {\"brand\": \"Ford”, “model\":\"Mustang\",\"year\":1964}\n",
    "\n",
    "1. Print the value of the \"model\" key of the car dictionary.\n",
    "\n",
    "2. Change the \"year\" value from 1964 to 2020.\n",
    "\n",
    "3. Add the key/value pair \"colour”: \"red\" to the car dictionary"
   ]
  },
  {
   "cell_type": "code",
   "execution_count": 214,
   "metadata": {},
   "outputs": [
    {
     "name": "stdout",
     "output_type": "stream",
     "text": [
      "Print the value of the 'model' key of the car dictionary:  Mustang\n",
      "After modification of the 'year' value:  {'brand': 'Ford', 'model': 'Mustang', 'year': '2020'}\n",
      "After adding a key/value pair, the dictionary value is  {'brand': 'Ford', 'model': 'Mustang', 'year': '2020', 'colour': 'red'}\n"
     ]
    }
   ],
   "source": [
    "car = {\"brand\": \"Ford\", \"model\":\"Mustang\",\"year\":1964}\n",
    "print(\"Print the value of the 'model' key of the car dictionary: \",car.get('model'))\n",
    "car['year']='2020'\n",
    "print(\"After modification of the 'year' value: \",car)\n",
    "car.update({\"colour\":\"red\"})\n",
    "print(\"After adding a key/value pair, the dictionary value is \",car)\n",
    "#car.update(\"colour\":\"red\")"
   ]
  },
  {
   "cell_type": "markdown",
   "metadata": {},
   "source": [
    "Given a dictionary inventory :\n",
    "\n",
    "inventory = {'gold' : 500, 'pouch' : ['flint', 'twine', 'gemstone'],\n",
    "'backpack' : ['xylophone’, ‘dagger', 'bedroll’, ‘bread’, ‘loaf']}\n",
    "\n",
    "\n",
    "4. Add a key to inventory called 'pocket' and Set the value of\n",
    "'pocket' to be a list consisting of the strings 'seashell', 'strange\n",
    "berry', and 'lint'."
   ]
  },
  {
   "cell_type": "code",
   "execution_count": 221,
   "metadata": {},
   "outputs": [
    {
     "name": "stdout",
     "output_type": "stream",
     "text": [
      "After adding a key/value pair, the dictionary value is  {'gold': 500, 'pouch': ['flint', 'twine', 'gemstone'], 'backpack': ['xylophone', 'dagger', 'bedroll', 'bread', 'loaf'], 'pocket': ['seashell', 'strange berry', 'lint']}\n"
     ]
    }
   ],
   "source": [
    "inventory = {'gold' : 500, 'pouch' : ['flint', 'twine', 'gemstone'], 'backpack' : ['xylophone', 'dagger', 'bedroll', 'bread', 'loaf']}\n",
    "inventory.update({'pocket':['seashell', 'strange berry', 'lint']})\n",
    "print(\"After adding a key/value pair, the dictionary value is \",inventory)"
   ]
  },
  {
   "cell_type": "markdown",
   "metadata": {},
   "source": [
    "5.  Sort the items in the list stored under the 'backpack' key."
   ]
  },
  {
   "cell_type": "code",
   "execution_count": 233,
   "metadata": {},
   "outputs": [
    {
     "name": "stdout",
     "output_type": "stream",
     "text": [
      "The 'backpack' key values are:  ['bedroll', 'bread', 'dagger', 'loaf', 'xylophone']\n"
     ]
    }
   ],
   "source": [
    "dict1 = {}\n",
    "dict1 = sorted(inventory.get('backpack'))\n",
    "print(\"The 'backpack' key values are: \",dict1)\n"
   ]
  },
  {
   "cell_type": "markdown",
   "metadata": {},
   "source": [
    "6.  Remove 'dagger' from the list of items stored under the 'backpack' key."
   ]
  },
  {
   "cell_type": "code",
   "execution_count": 234,
   "metadata": {},
   "outputs": [
    {
     "name": "stdout",
     "output_type": "stream",
     "text": [
      "Remove 'dagger' from the list of items stored under the 'backpack' key:  ['bedroll', 'bread', 'loaf', 'xylophone']\n"
     ]
    }
   ],
   "source": [
    "dict1.remove('dagger')\n",
    "print(\"Remove 'dagger' from the list of items stored under the 'backpack' key: \",dict1)"
   ]
  },
  {
   "cell_type": "markdown",
   "metadata": {},
   "source": [
    "7.  Add 50 to the number stored under the 'gold' key."
   ]
  },
  {
   "cell_type": "code",
   "execution_count": 237,
   "metadata": {},
   "outputs": [
    {
     "name": "stdout",
     "output_type": "stream",
     "text": [
      "The value of gold after adding 50 with its initial value:  550\n"
     ]
    }
   ],
   "source": [
    "a = int(inventory.get('gold')) + 50\n",
    "print(\"The value of gold after adding 50 with its initial value: \",a)"
   ]
  },
  {
   "cell_type": "markdown",
   "metadata": {},
   "source": [
    "8. Write a Python script to concatenate three dictionaries to create\n",
    "a new one. Make dictionaries yourself."
   ]
  },
  {
   "cell_type": "code",
   "execution_count": 239,
   "metadata": {},
   "outputs": [
    {
     "name": "stdout",
     "output_type": "stream",
     "text": [
      "{1: 10, 2: 20, 3: 30, 4: 40, 5: 50, 6: 60}\n"
     ]
    }
   ],
   "source": [
    "dic1={1:10, 2:20}\n",
    "dic2={3:30, 4:40}\n",
    "dic3={5:50, 6:60}\n",
    "dic4 = {}\n",
    "for d in (dic1, dic2, dic3): dic4.update(d)\n",
    "print(dic4)"
   ]
  },
  {
   "cell_type": "markdown",
   "metadata": {},
   "source": [
    "9.  Write a Python program to sum all the items in a dictionary."
   ]
  },
  {
   "cell_type": "code",
   "execution_count": 244,
   "metadata": {},
   "outputs": [
    {
     "name": "stdout",
     "output_type": "stream",
     "text": [
      "The sum of all items in keys is  21 & values is  210\n"
     ]
    }
   ],
   "source": [
    "print('The sum of all items in keys is ',sum(dic4.keys()),'& values is ',sum(dic4.values()))"
   ]
  },
  {
   "cell_type": "markdown",
   "metadata": {},
   "source": [
    "10.  Write a Python script to check whether a given key already exists in a dictionary.\n",
    "\n",
    "d = {'foo': 100, 'bar': 200, 'baz': 300}"
   ]
  },
  {
   "cell_type": "code",
   "execution_count": 247,
   "metadata": {},
   "outputs": [
    {
     "name": "stdout",
     "output_type": "stream",
     "text": [
      "Key is present in the dictionary\n",
      "Key is not present in the dictionary\n"
     ]
    }
   ],
   "source": [
    "d = {'foo': 100, 'bar': 200, 'baz': 300}\n",
    "def is_key_present(x):\n",
    "  if x in d:\n",
    "      print('Key is present in the dictionary')\n",
    "  else:\n",
    "      print('Key is not present in the dictionary')\n",
    "is_key_present('foo')\n",
    "is_key_present('fool')"
   ]
  },
  {
   "cell_type": "markdown",
   "metadata": {},
   "source": [
    "11.  What method call will delete the entry whose value is 200?"
   ]
  },
  {
   "cell_type": "code",
   "execution_count": 253,
   "metadata": {},
   "outputs": [
    {
     "name": "stdout",
     "output_type": "stream",
     "text": [
      "The dictionary after remove is : {'foo': 100, 'baz': 300}\n"
     ]
    }
   ],
   "source": [
    "d = {'foo': 100, 'bar': 200, 'baz': 300}\n",
    "#Using del to remove 200 \n",
    "del d['bar']\n",
    "  \n",
    "# Modified Dictionary   \n",
    "print (\"The dictionary after remove is : \" + str(d))"
   ]
  },
  {
   "cell_type": "markdown",
   "metadata": {},
   "source": [
    "12.  Write a Python program to check multiple keys exists in a dictionary."
   ]
  },
  {
   "cell_type": "code",
   "execution_count": 254,
   "metadata": {},
   "outputs": [
    {
     "name": "stdout",
     "output_type": "stream",
     "text": [
      "True\n",
      "False\n"
     ]
    }
   ],
   "source": [
    "# Python3 code heck multiple key existence \n",
    "# using issubset \n",
    "  \n",
    "# initializing a dictionary \n",
    "sports = {\"geeksforgeeks\" : 1, \"practice\" : 2, \"contribute\" :3} \n",
    "  \n",
    "# creating set of keys that we want to compare \n",
    "s1 = set(['geeksforgeeks', 'practice']) \n",
    "s2 = set(['geeksforgeeks', 'ide']) \n",
    "  \n",
    "print(s1.issubset(sports.keys())) \n",
    "print(s2.issubset(sports.keys())) "
   ]
  },
  {
   "cell_type": "code",
   "execution_count": null,
   "metadata": {},
   "outputs": [],
   "source": []
  }
 ],
 "metadata": {
  "kernelspec": {
   "display_name": "Python 3",
   "language": "python",
   "name": "python3"
  },
  "language_info": {
   "codemirror_mode": {
    "name": "ipython",
    "version": 3
   },
   "file_extension": ".py",
   "mimetype": "text/x-python",
   "name": "python",
   "nbconvert_exporter": "python",
   "pygments_lexer": "ipython3",
   "version": "3.7.6"
  }
 },
 "nbformat": 4,
 "nbformat_minor": 4
}
