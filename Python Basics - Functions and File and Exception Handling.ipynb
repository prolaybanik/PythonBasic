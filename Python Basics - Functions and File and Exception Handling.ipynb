{
 "cells": [
  {
   "cell_type": "markdown",
   "metadata": {},
   "source": [
    "### Functions"
   ]
  },
  {
   "cell_type": "markdown",
   "metadata": {},
   "source": [
    "1.  Write a Python function that accepts a string and calculates the number of uppercase letters and lowercase letters."
   ]
  },
  {
   "cell_type": "code",
   "execution_count": 1,
   "metadata": {},
   "outputs": [
    {
     "name": "stdout",
     "output_type": "stream",
     "text": [
      "Enter a suitable word/sentence to find no of upper/lower case letters: Disco Dancer\n",
      "Lower case nums:  9\n",
      "Upper case nums:  2\n"
     ]
    }
   ],
   "source": [
    "def findUpperLower(s):\n",
    "    l=u=0\n",
    "    for i in s:\n",
    "        if (i >='a' and i <='z'):\n",
    "            l += 1\n",
    "        if (i>='A'and i<='Z'):\n",
    "            u += 1\n",
    "    print(\"Lower case nums: \",l)\n",
    "    print(\"Upper case nums: \",u)\n",
    "\n",
    "s = str(input(\"Enter a suitable word/sentence to find no of upper/lower case letters: \"))\n",
    "findUpperLower(s)"
   ]
  },
  {
   "cell_type": "markdown",
   "metadata": {},
   "source": [
    "2.  Write a Python function to create and print a list where the values are squares of numbers between 1 and 30 (both included)"
   ]
  },
  {
   "cell_type": "code",
   "execution_count": 2,
   "metadata": {},
   "outputs": [
    {
     "name": "stdout",
     "output_type": "stream",
     "text": [
      "The squared values of numbers between 1 and 30 (both included):  [1, 4, 9, 16, 25, 36, 49, 64, 81, 100, 121, 144, 169, 196, 225, 256, 289, 324, 361, 400, 441, 484, 529, 576, 625, 676, 729, 784, 841, 900]\n"
     ]
    }
   ],
   "source": [
    "def findSQNum():\n",
    "    l=[]\n",
    "    for i in range(1,31):\n",
    "        l.append(i**2)\n",
    "    print(\"The squared values of numbers between 1 and 30 (both included): \",l)\n",
    "\n",
    "findSQNum()"
   ]
  },
  {
   "cell_type": "markdown",
   "metadata": {},
   "source": [
    "3. Create a function that counts the number of elements within a list that are greater than 30"
   ]
  },
  {
   "cell_type": "code",
   "execution_count": 3,
   "metadata": {},
   "outputs": [
    {
     "name": "stdout",
     "output_type": "stream",
     "text": [
      "Greater than 30:  [33, 34, 35, 32, 40, 50]\n"
     ]
    }
   ],
   "source": [
    "def findGrt30():\n",
    "    lst1=[10,20,30,33,34,35,32,40,50]\n",
    "    lst2=[]\n",
    "    for i in lst1:\n",
    "        if i > 30:\n",
    "            lst2.append(i)\n",
    "            #print(\"Its greater than 30!!\")\n",
    "    print(\"Greater than 30: \",lst2)\n",
    "findGrt30()"
   ]
  },
  {
   "cell_type": "markdown",
   "metadata": {},
   "source": [
    "4.  Write a Python function that takes a list and returns a new list with unique elements of the first list."
   ]
  },
  {
   "cell_type": "code",
   "execution_count": 5,
   "metadata": {},
   "outputs": [
    {
     "name": "stdout",
     "output_type": "stream",
     "text": [
      "Enter the list items putting a space in between: 11 11 11 11 11 11\n",
      "At the begining, the List is:  [11, 11, 11, 11, 11, 11]\n",
      "The final list after removing duplicate entries:  [11]\n"
     ]
    }
   ],
   "source": [
    "def unique():\n",
    "    lst3 = [int(item) for item in input(\"Enter the list items putting a space in between: \").split()]\n",
    "    print(\"At the begining, the List is: \",lst3) \n",
    "    lst4=[]\n",
    "    for i in lst3:\n",
    "        if i not in lst4:\n",
    "            lst4.append(i)\n",
    "#    for i in lst2:\n",
    "#        print(i)\n",
    "    print(\"The final list after removing duplicate entries: \",sorted(lst4))\n",
    "unique()"
   ]
  },
  {
   "cell_type": "markdown",
   "metadata": {},
   "source": [
    "5.  Create a function showEmployee() in such a way that it should accept employee name, and it’s salary and display\n",
    "both, and if the salary is missing in function call it should show it as 9000"
   ]
  },
  {
   "cell_type": "code",
   "execution_count": 7,
   "metadata": {},
   "outputs": [
    {
     "name": "stdout",
     "output_type": "stream",
     "text": [
      "Enter the Employee first name and salary putting a space in between: pb 7000\n",
      "At the begining, the List is:  ['pb', '7000']\n",
      "The Employee first name and his salary is:  ['pb', 7000]\n"
     ]
    }
   ],
   "source": [
    "def showEmployee():\n",
    "    #lst1 = []\n",
    "    lst1 = [item for item in input(\"Enter the Employee first name and salary putting a space in between: \").split()]\n",
    "    print(\"At the begining, the List is: \",lst1) \n",
    "    if len(lst1) <=2 and len(lst1) > 0:\n",
    "        for i in lst1:\n",
    "            if len(lst1) == 1:\n",
    "                lst1.append(9000)\n",
    "            else:\n",
    "                lst1[1] = int(lst1[1])  # Converting salary as int type\n",
    "        print(\"The Employee first name and his salary is: \",lst1)\n",
    "    else:\n",
    "        print(\"Only 2 elements (Employee First Name and Salary) can be within List!!\")\n",
    "showEmployee()"
   ]
  },
  {
   "cell_type": "markdown",
   "metadata": {},
   "source": [
    "6.  Write a Python program to count the even, odd numbers in a given array of integers using Lambda"
   ]
  },
  {
   "cell_type": "code",
   "execution_count": 53,
   "metadata": {},
   "outputs": [
    {
     "name": "stdout",
     "output_type": "stream",
     "text": [
      "Enter the list items putting a space in between: 56 23 20 22 5\n",
      "At the begining, the List is:  [56, 23, 20, 22, 5]\n",
      "\n",
      "Number of even numbers in the above array:  3\n",
      "\n",
      "Number of odd numbers in the above array:  2\n"
     ]
    }
   ],
   "source": [
    "lst1 = [int(item) for item in input(\"Enter the list items putting a space in between: \").split()]\n",
    "print(\"At the begining, the List is: \",lst1) \n",
    "odd_cnt = len(list(filter(lambda x: (x%2 != 0) , lst1)))\n",
    "even_cnt = len(list(filter(lambda x: (x%2 == 0) , lst1)))\n",
    "print(\"\\nNumber of even numbers in the above array: \", even_cnt)\n",
    "print(\"\\nNumber of odd numbers in the above array: \", odd_cnt)"
   ]
  },
  {
   "cell_type": "markdown",
   "metadata": {},
   "source": [
    "7.  Write a Python program to add two given lists using map and lambda"
   ]
  },
  {
   "cell_type": "code",
   "execution_count": 54,
   "metadata": {},
   "outputs": [
    {
     "name": "stdout",
     "output_type": "stream",
     "text": [
      "Original list: \n",
      "[1, 2, 3]\n",
      "[4, 5, 6]\n",
      "\n",
      "After adding two list the final result is: \n",
      "[5, 7, 9]\n"
     ]
    }
   ],
   "source": [
    "num1 = [1, 2, 3]\n",
    "num2 = [4, 5, 6]\n",
    "print(\"Original list: \")\n",
    "print(num1)\n",
    "print(num2)\n",
    "result = map(lambda x, y: x + y, num1, num2)\n",
    "print(\"\\nAfter adding two list the final result is: \")\n",
    "print(list(result))"
   ]
  },
  {
   "cell_type": "markdown",
   "metadata": {},
   "source": [
    "8.  Write a Python program to rearrange positive and negative numbers in a given array using Lambda and filter"
   ]
  },
  {
   "cell_type": "code",
   "execution_count": 55,
   "metadata": {},
   "outputs": [
    {
     "name": "stdout",
     "output_type": "stream",
     "text": [
      "Enter the list items putting a space in between: 45 48 -15 -5 90 15\n",
      "At the begining, the elements of array is: \n",
      "[45, 48, -15, -5, 90, 15]\n",
      "\n",
      "Rearranged positive and negative numbers of the user input valued array:\n",
      "[-15, -5, 15, 45, 48, 90]\n"
     ]
    }
   ],
   "source": [
    "lst1 = [int(item) for item in input(\"Enter the list items putting a space in between: \").split()]\n",
    "print(\"At the begining, the elements of array is: \")\n",
    "print(lst1)\n",
    "result = [x for x in lst1 if x < 0] + [x for x in lst1 if x >= 0]\n",
    "print(\"\\nRearranged positive and negative numbers of the user input valued array:\")\n",
    "print(sorted(result))"
   ]
  },
  {
   "cell_type": "markdown",
   "metadata": {},
   "source": [
    "9.   Write a Python program to filter a list of integers using Lambda."
   ]
  },
  {
   "cell_type": "code",
   "execution_count": 25,
   "metadata": {},
   "outputs": [
    {
     "name": "stdout",
     "output_type": "stream",
     "text": [
      "Original List: \n",
      "[5, 7, 22, 95, 54, 62, 75, 23, 73, 60]\n",
      "Divisible by 5:  [5, 95, 75, 60]\n"
     ]
    }
   ],
   "source": [
    "lst11 = [5, 7, 22, 95, 54, 62, 75, 23, 73, 60] \n",
    "print('Original List: ')\n",
    "print(lst11)\n",
    "final_list = list(filter(lambda x: (x%5 == 0) , lst11)) \n",
    "print(\"Divisible by 5: \",final_list) "
   ]
  },
  {
   "cell_type": "markdown",
   "metadata": {},
   "source": [
    "10.  Write a Python program to find the intersection of two given arrays using Lambda and filter"
   ]
  },
  {
   "cell_type": "code",
   "execution_count": 27,
   "metadata": {},
   "outputs": [
    {
     "name": "stdout",
     "output_type": "stream",
     "text": [
      "Original arrays:\n",
      "[1, 2, 3, 5, 7, 8, 9, 10]\n",
      "[1, 2, 5, 8, 12]\n",
      "\n",
      "Intersection of the said arrays:  [1, 2, 5, 8]\n"
     ]
    }
   ],
   "source": [
    "array_num1 = [1, 2, 3, 5, 7, 8, 9, 10]\n",
    "array_num2 = [1, 2, 5, 8, 12]\n",
    "print(\"Original arrays:\")\n",
    "print(array_num1)\n",
    "print(array_num2)\n",
    "result = list(filter(lambda x: x in array_num1, array_num2)) \n",
    "print (\"\\nIntersection of the said arrays: \",result)"
   ]
  },
  {
   "cell_type": "markdown",
   "metadata": {},
   "source": [
    "### File handling\n",
    "\n",
    "\n",
    "Note : Use a sample file to answer the below questions.\n"
   ]
  },
  {
   "cell_type": "markdown",
   "metadata": {},
   "source": [
    "1. Write a python code to open a file for appending data"
   ]
  },
  {
   "cell_type": "code",
   "execution_count": 56,
   "metadata": {},
   "outputs": [
    {
     "name": "stdout",
     "output_type": "stream",
     "text": [
      "Hi All, this is the new file, created with appending data!\n",
      "\n"
     ]
    }
   ],
   "source": [
    "file_txt1 = open(\"Sample4.txt\",'a')\n",
    "file_txt1.write(\"Hi All, this is the new file, created with appending data!\\n\")\n",
    "file_txt1.close()\n",
    "# open and read the file after appending :\n",
    "file_txt1 = open(\"sample4.txt\",'r')\n",
    "print(file_txt1.read())"
   ]
  },
  {
   "cell_type": "markdown",
   "metadata": {},
   "source": [
    "2.  How would you read two characters from a file "
   ]
  },
  {
   "cell_type": "code",
   "execution_count": 57,
   "metadata": {},
   "outputs": [
    {
     "name": "stdout",
     "output_type": "stream",
     "text": [
      "Hi\n"
     ]
    }
   ],
   "source": [
    "file_txt2 = open(\"sample4.txt\",'r')\n",
    "text = file_txt2.read(2)\n",
    "print(text)"
   ]
  },
  {
   "cell_type": "markdown",
   "metadata": {},
   "source": [
    "3.  Which command is used to read the entire content of the file as a string."
   ]
  },
  {
   "cell_type": "code",
   "execution_count": 62,
   "metadata": {},
   "outputs": [
    {
     "name": "stdout",
     "output_type": "stream",
     "text": [
      "Piranhas rarely feed on large animals; they eat smaller fish and aquatic plants. \n",
      "When confronted with humans, piranhas’ first instinct is to flee, not attack. \n",
      "Their fear of humans makes sense. Far more piranhas are eaten by people than people are eaten by piranhas. \n",
      "If the fish are well-fed, they won’t bite humans.\n"
     ]
    }
   ],
   "source": [
    "file_txt3 = open(\"Sample5.txt\",'a')\n",
    "file_txt3.write('''Piranhas rarely feed on large animals; they eat smaller fish and aquatic plants. \n",
    "When confronted with humans, piranhas’ first instinct is to flee, not attack. \n",
    "Their fear of humans makes sense. Far more piranhas are eaten by people than people are eaten by piranhas. \n",
    "If the fish are well-fed, they won’t bite humans.''')\n",
    "file_txt3.close()\n",
    "#file_txt3.read()\n",
    "a = open('Sample5.txt','r')\n",
    "print(a.read())"
   ]
  },
  {
   "cell_type": "markdown",
   "metadata": {},
   "source": [
    "4. How to read the next line of the file"
   ]
  },
  {
   "cell_type": "code",
   "execution_count": 66,
   "metadata": {},
   "outputs": [
    {
     "name": "stdout",
     "output_type": "stream",
     "text": [
      "Piranhas rarely feed on large animals; they eat smaller fish and aquatic plants. \n",
      "\n"
     ]
    }
   ],
   "source": [
    "a = open('Sample5.txt','r')\n",
    "txt = a.readline() # readline() is used to read the nextline\n",
    "print(txt)"
   ]
  },
  {
   "cell_type": "markdown",
   "metadata": {},
   "source": [
    "5.   Which command is used to open a file for reading in binary format only?"
   ]
  },
  {
   "cell_type": "code",
   "execution_count": 67,
   "metadata": {},
   "outputs": [
    {
     "name": "stdout",
     "output_type": "stream",
     "text": [
      "<_io.BufferedReader name='Sample4.txt'>\n"
     ]
    }
   ],
   "source": [
    "binary_file = open('Sample4.txt', 'rb')\n",
    "print(binary_file)"
   ]
  },
  {
   "cell_type": "markdown",
   "metadata": {},
   "source": [
    "### Exception handling"
   ]
  },
  {
   "cell_type": "markdown",
   "metadata": {},
   "source": [
    "1.  When will the else part of try-except-else be executed?\n",
    "\n",
    "a) always\n",
    "\n",
    "b) when an exception occurs\n",
    "\n",
    "c) when no exception occurs\n",
    "\n",
    "d) when an exception occurs in to except block"
   ]
  },
  {
   "cell_type": "markdown",
   "metadata": {},
   "source": [
    "The correct answer is c) when no exception occurs"
   ]
  },
  {
   "cell_type": "markdown",
   "metadata": {},
   "source": [
    "2. Can one block of except statements handle multiple exception?\n",
    "\n",
    "a) yes, like except TypeError, SyntaxError [,…]\n",
    "\n",
    "b) yes, like except [TypeError, SyntaxError]\n",
    "\n",
    "c) no\n",
    "\n",
    "d) none of the mentioned\n"
   ]
  },
  {
   "cell_type": "markdown",
   "metadata": {},
   "source": [
    "The correct answer is a) yes, like except TypeError, SyntaxError [,…]"
   ]
  },
  {
   "cell_type": "markdown",
   "metadata": {},
   "source": [
    "3.  What will be the output of the following Python code?\n",
    "\n",
    "def foo():\n",
    "\n",
    "    try:    \n",
    "        print(1)    \n",
    "    finally:    \n",
    "        print(2)\n",
    "\n",
    "foo()\n",
    "\n",
    "a) 1 2\n",
    "\n",
    "b) 1\n",
    "\n",
    "c) 2\n",
    "\n",
    "d) none of the mentioned"
   ]
  },
  {
   "cell_type": "markdown",
   "metadata": {},
   "source": [
    "The correct answer is a) 1 2"
   ]
  },
  {
   "cell_type": "markdown",
   "metadata": {},
   "source": [
    "4 . What is the output of the following program?\n",
    "\n",
    "value = [1,2,3,4,5]\n",
    "\n",
    "try:\n",
    " value = value[5]/0\n",
    " \n",
    "except (IndexError, ZeroDivisionError):\n",
    "\n",
    " print('Errors occurred ', end = '')\n",
    " \n",
    "else:\n",
    "\n",
    " print('GFG ', end = '')\n",
    " \n",
    "finally:\n",
    "\n",
    " print('Done ', end = '')\n",
    " \n",
    " \n",
    "a) Compilation error\n",
    "\n",
    "b) Runtime error\n",
    "\n",
    "c) Errors occurred GFG Done\n",
    "\n",
    "d) Errors occurred Done "
   ]
  },
  {
   "cell_type": "markdown",
   "metadata": {},
   "source": [
    "The correct Answer is d) Errors occurred Done"
   ]
  },
  {
   "cell_type": "markdown",
   "metadata": {},
   "source": [
    "5. What is the output of the following program?\n",
    "\n",
    "data = 50\n",
    "\n",
    "try:\n",
    "\n",
    "    data = data/0\n",
    "\n",
    "except ZeroDivisionError:\n",
    "\n",
    "     print('Cannot divide by 0 ', end = '')\n",
    "\n",
    "else:\n",
    "\n",
    "    print('Division successful ', end = '')\n",
    "\n",
    "try:\n",
    "\n",
    "    data = data/5\n",
    "\n",
    "except:\n",
    "\n",
    "    print('Inside except block ', end = '')\n",
    "\n",
    "else:\n",
    "\n",
    "    print('DONE', end = '')\n",
    "    \n",
    "    \n",
    "a) Cannot divide by 0 DONE\n",
    "\n",
    "b) Cannot divide by 0\n",
    "\n",
    "c) Cannot divide by 0 Inside except block DONE\n",
    "\n",
    "d) Cannot divide by 0 Inside except block    "
   ]
  },
  {
   "cell_type": "markdown",
   "metadata": {},
   "source": [
    "The correct answer is a) Cannot divide by 0 DONE"
   ]
  }
 ],
 "metadata": {
  "kernelspec": {
   "display_name": "Python 3",
   "language": "python",
   "name": "python3"
  },
  "language_info": {
   "codemirror_mode": {
    "name": "ipython",
    "version": 3
   },
   "file_extension": ".py",
   "mimetype": "text/x-python",
   "name": "python",
   "nbconvert_exporter": "python",
   "pygments_lexer": "ipython3",
   "version": "3.7.6"
  }
 },
 "nbformat": 4,
 "nbformat_minor": 4
}
