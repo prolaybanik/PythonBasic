{
 "cells": [
  {
   "cell_type": "markdown",
   "metadata": {},
   "source": [
    "### Python Programming \n",
    "*** Conditional Statements ***"
   ]
  },
  {
   "cell_type": "markdown",
   "metadata": {},
   "source": [
    "1. Take two integer values from the user and print greatest among them."
   ]
  },
  {
   "cell_type": "code",
   "execution_count": 9,
   "metadata": {},
   "outputs": [
    {
     "name": "stdout",
     "output_type": "stream",
     "text": [
      "Enter 1st integer value: -15\n",
      "Enter 2nd integer value: -9\n",
      "The 2nd integer value is greatest!\n"
     ]
    }
   ],
   "source": [
    "num1 = int(input(\"Enter 1st integer value: \"))\n",
    "num2 = int(input(\"Enter 2nd integer value: \"))\n",
    "if num1 > num2:\n",
    "    print(\"The 1st integer value is greatest!\")\n",
    "elif num2 > num1:\n",
    "    print(\"The 2nd integer value is greatest!\")\n",
    "else:\n",
    "    print(\"Both the integer values are equal!\")"
   ]
  },
  {
   "cell_type": "markdown",
   "metadata": {},
   "source": [
    "2.  Write a program that reads an integer from the user. Then\n",
    "your program should display a message indicating\n",
    "whether the integer is even or odd."
   ]
  },
  {
   "cell_type": "code",
   "execution_count": 11,
   "metadata": {},
   "outputs": [
    {
     "name": "stdout",
     "output_type": "stream",
     "text": [
      "Enter a integer value: 20\n",
      "Entered integer value is even!\n"
     ]
    }
   ],
   "source": [
    "num3 = int(input(\"Enter a integer value: \"))\n",
    "if num3 == 0:\n",
    "    print(\"You've entered 0(+/-), which is not even, not odd!\")\n",
    "elif num3%2==0:\n",
    "    print(\"Entered integer value is even!\")\n",
    "else:\n",
    "    print(\"Entered integer value is odd!\")"
   ]
  },
  {
   "cell_type": "markdown",
   "metadata": {},
   "source": [
    "3.  Create a program that reads a letter of the alphabet from the user. If the user enters a, e, i, o or u then your program\n",
    "should display a message indicating that the entered letter is a vowel. If the user enters y then your program should\n",
    "display a message indicating that sometimes y is a vowel, and sometimes y is a consonant. Otherwise your program should \n",
    "display a message indicating that the letter is a consonant."
   ]
  },
  {
   "cell_type": "code",
   "execution_count": 3,
   "metadata": {},
   "outputs": [
    {
     "name": "stdout",
     "output_type": "stream",
     "text": [
      "Please Enter a letter of the alphabet: r\n",
      "The entered letter is a consonant!\n"
     ]
    }
   ],
   "source": [
    "str1 = str(input(\"Please Enter a letter of the alphabet: \"))\n",
    "if (str1=='a' or str1=='e' or str1=='i' or str1=='o' or str1=='u'):\n",
    "    print(\"The entered letter is a vowel!\")\n",
    "elif str1=='y':\n",
    "    print(\"sometimes y is a vowel, and sometimes y is a consonant!\")\n",
    "else:\n",
    "    print(\"The entered letter is a consonant!\")"
   ]
  },
  {
   "cell_type": "markdown",
   "metadata": {},
   "source": [
    "4.  A triangle can be classified based on the lengths of its sides as equilateral, isosceles or scalene. All three sides of an\n",
    "equilateral triangle have the same length. An isosceles triangle has two sides that are the same length, and a third\n",
    "side that is a different length. If all of the sides have different lengths then the triangle is scalene. Write a program that\n",
    "reads the lengths of the three sides of a triangle from the user. Then display a message that states the triangle’s type."
   ]
  },
  {
   "cell_type": "code",
   "execution_count": 16,
   "metadata": {},
   "outputs": [
    {
     "name": "stdout",
     "output_type": "stream",
     "text": [
      "Enter base side of a triangle: 5\n",
      "Enter 1st side of a triangle: 5\n",
      "Enter 2nd side of a triangle: 10\n",
      "The triangle is scalene tringle!\n"
     ]
    }
   ],
   "source": [
    "num4 = int(input(\"Enter base side of a triangle: \"))\n",
    "num5 = int(input(\"Enter 1st side of a triangle: \"))\n",
    "num6 = int(input(\"Enter 2nd side of a triangle: \"))\n",
    "if (num4==num5 and num5==num6 and num4==num6):\n",
    "    print(\"The triangle is equilateral triangle!\")\n",
    "elif (num5==num6 and (num4!=num5 or num4!=num6)):\n",
    "    print(\"The triangle is isoscales triangle!\")\n",
    "else:\n",
    "    print(\"The triangle is scalene tringle!\")"
   ]
  },
  {
   "cell_type": "markdown",
   "metadata": {},
   "source": [
    "5. Write a program that determines the name of a shape from its number of sides. Read the number of sides from the\n",
    "user and then report the appropriate name as part of a meaningful message. Your program should support shapes\n",
    "with anywhere from 3 up to (and including) 10 sides. If a number of sides outside of this range is entered then your\n",
    "program should display an appropriate error message."
   ]
  },
  {
   "cell_type": "code",
   "execution_count": 23,
   "metadata": {},
   "outputs": [
    {
     "name": "stdout",
     "output_type": "stream",
     "text": [
      "Enter the number of sides of a shape between 3 to 10: 9\n",
      "The shape is a Nonagon!\n"
     ]
    }
   ],
   "source": [
    "num7 = int(input(\"Enter the number of sides of a shape between 3 to 10: \"))\n",
    "if num7==3:\n",
    "    print(\"The shape is a triangle!\")\n",
    "elif num7==4:\n",
    "    print(\"The shape is a quadrilateral!\")\n",
    "elif num7==5:\n",
    "    print(\"The shape is a Pentagon!\")\n",
    "elif num7==6:\n",
    "    print(\"The shape is a Hexagon!\")\n",
    "elif num7==7:\n",
    "    print(\"The shape is a Heptagon!\")\n",
    "elif num7==8:\n",
    "    print(\"The shape is a Octagon!\")\n",
    "elif num7==9:\n",
    "    print(\"The shape is a Nonagon!\")    \n",
    "elif num7==10:\n",
    "    print(\"The shape is a Decagon!\")\n",
    "else:\n",
    "    print(\"The entered number is out of range, can't form a shape!!!\")"
   ]
  },
  {
   "cell_type": "markdown",
   "metadata": {},
   "source": [
    "6.  A shop will give a discount of 10% if the cost of the purchased quantity is more than 1000. Ask the user for\n",
    "quantity, suppose, one unit will cost 100. Judge and print total cost for user."
   ]
  },
  {
   "cell_type": "code",
   "execution_count": 28,
   "metadata": {},
   "outputs": [
    {
     "name": "stdout",
     "output_type": "stream",
     "text": [
      "No of quantity you want? 5\n",
      "Sorry!! you've not received any discount for 5 quantity(ies), you've to pay  500\n"
     ]
    }
   ],
   "source": [
    "num8 = int(input(\"No of quantity you want? \"))\n",
    "if num8 > 0:\n",
    "    cost = num8*100\n",
    "    if cost>=1000:\n",
    "        print(\"Congratulation!! You will get 10% discount for {} quantity(ies)..\".format(num8))\n",
    "        cost = cost - (cost*10/100)\n",
    "        print(\"After getting discount, you've to pay for {} quantity(ies) \".format(num8),cost)\n",
    "    else:\n",
    "        print(\"Sorry!! you've not received any discount for {} quantity(ies), you've to pay \".format(num8),cost)\n",
    "elif num8 == 0:\n",
    "    print(\"You've entered zero as quantity!!\")\n",
    "else:\n",
    "    print(\"You've entered a negative value as quantity, please rectify!!\")"
   ]
  },
  {
   "cell_type": "markdown",
   "metadata": {},
   "source": [
    "7.  Take input of age of 3 people by user and determine oldest and youngest among them."
   ]
  },
  {
   "cell_type": "code",
   "execution_count": 37,
   "metadata": {},
   "outputs": [
    {
     "name": "stdout",
     "output_type": "stream",
     "text": [
      "Enter 1st person age: 5\n",
      "Enter 2nd person age: 10\n",
      "Enter 3rd person age: 10\n",
      "Entered age of 2nd person is greater than others, so 2nd person is oldest!\n",
      "Entered age of 1st person is lesser than others, so 1st person is youngest!\n"
     ]
    }
   ],
   "source": [
    "num9 = int(input(\"Enter 1st person age: \"))\n",
    "num10 = int(input(\"Enter 2nd person age: \"))\n",
    "num11 = int(input(\"Enter 3rd person age: \"))\n",
    "if num9>=0 and num10>=0 and num11>=0:\n",
    "    if (num9>=num10 and num9>=num11):\n",
    "        print(\"Entered age of 1st person is greater than others, so 1st person is oldest!\")\n",
    "    elif num10>=num9 and num10>=num11:\n",
    "        print(\"Entered age of 2nd person is greater than others, so 2nd person is oldest!\")\n",
    "    elif num11>=num9 and num11>=num10:\n",
    "        print(\"Entered age of 3rd person is greater than others, so 3rd person is oldest!\")\n",
    "    else:\n",
    "        print(\"All the entered ages are equal!!\")\n",
    "    if (num9<=num10 and num9<=num11):\n",
    "        print(\"Entered age of 1st person is lesser than others, so 1st person is youngest!\")\n",
    "    elif num10<=num9 and num10<=num11:\n",
    "        print(\"Entered age of 2nd person is lesser than others, so 2nd person is youngest!\")\n",
    "    else: #num11<=num9 and num11<=num10:\n",
    "        print(\"Entered age of 3rd person is lesser than others, so 3rd person is youngest!\")\n",
    "else:\n",
    "    print(\"You've entered any of the person's age as negative!!!\")"
   ]
  },
  {
   "cell_type": "markdown",
   "metadata": {},
   "source": [
    "8.  A company decided to give a bonus of 5% to an employee if his/her year of service is more than 5 years. Ask user for\n",
    "their salary and year of service and print the net bonus amount"
   ]
  },
  {
   "cell_type": "code",
   "execution_count": 32,
   "metadata": {},
   "outputs": [
    {
     "name": "stdout",
     "output_type": "stream",
     "text": [
      "Enter the year of service: 5.6\n",
      "Enter your Salary: 30000\n",
      "Congratulation!! Your service year is more than 5.\n",
      "You will get 5% bonus, as you've completed here 5.6 year(s)  1500.0\n"
     ]
    }
   ],
   "source": [
    "yr_of_service = float(input(\"Enter the year of service: \"))\n",
    "if yr_of_service >= 5:\n",
    "    salary = int(input(\"Enter your Salary: \"))\n",
    "    print(\"Congratulation!! Your service year is more than 5.\")\n",
    "    bonus = (salary*5/100)\n",
    "    print(\"You will get 5% bonus, as you've completed here {} year(s) \".format(yr_of_service),bonus)\n",
    "else:\n",
    "    print(\"You have not completed 5 years!!\")"
   ]
  },
  {
   "cell_type": "markdown",
   "metadata": {},
   "source": [
    "9.  Write a program to check if a year is leap year or not. If a year is divisible by 4 then it is leap year but if the year is\n",
    "a century year like 2000, 1900, 2100 then it must be divisible by 400."
   ]
  },
  {
   "cell_type": "code",
   "execution_count": 40,
   "metadata": {},
   "outputs": [
    {
     "name": "stdout",
     "output_type": "stream",
     "text": [
      "Enter the year: 2400\n",
      "Entered year is leap-year!!\n"
     ]
    }
   ],
   "source": [
    "year = int(input(\"Enter the year: \"))\n",
    "if (year%4 == 0 and year%100 != 0) or year%400==0:\n",
    "    print(\"Entered year is leap-year!!\")\n",
    "else:\n",
    "    print(\"Entered year is not leap-year!!\")"
   ]
  },
  {
   "cell_type": "markdown",
   "metadata": {},
   "source": [
    "10.  Accept d1 and d2 as input. First, check to see that they are in the proper range for dice. If not, print a message.\n",
    "Otherwise, determine the outcome if this is the come out roll. If the sum is 7 or 11, print the winner. If the sum is 2, 3 or\n",
    "12, print loser. Otherwise print the point."
   ]
  },
  {
   "cell_type": "code",
   "execution_count": 45,
   "metadata": {},
   "outputs": [
    {
     "name": "stdout",
     "output_type": "stream",
     "text": [
      "Enter the number of 1st dice: 3\n",
      "Enter the number of 2nd dice: 4\n",
      "You are the winner!! your output sum is:  7\n"
     ]
    }
   ],
   "source": [
    "d1 = int(input(\"Enter the number of 1st dice: \"))\n",
    "d2 = int(input(\"Enter the number of 2nd dice: \"))\n",
    "if d1>6 or d2>6:\n",
    "    print(\"Wrong input, dice can't be more than 6!!\")\n",
    "elif d1>0 and d2>0:\n",
    "    out = d1 + d2\n",
    "    if out==7 or out==11:\n",
    "        print(\"You are the winner!! your output sum is: \",out)\n",
    "    elif out==2 or out==3 or out==12:\n",
    "        print(\"You are the loser!! your output sum is: \",out)\n",
    "    else:\n",
    "        print(\"Here is your sum of the dice numners: \",out)\n",
    "else:\n",
    "    print(\"You have entered either Zero and/or negative value, which can't be an input, please re-enter!!\")"
   ]
  },
  {
   "cell_type": "markdown",
   "metadata": {},
   "source": [
    "11.  Write a python program to display the number of days in a month name from the given list of months or month number \n",
    "entered by user."
   ]
  },
  {
   "cell_type": "code",
   "execution_count": 54,
   "metadata": {},
   "outputs": [
    {
     "name": "stdout",
     "output_type": "stream",
     "text": [
      "List of months: January, February, March, April, May, June, July, August, September, October, November, December\n",
      "Input the name of Month: june\n",
      "No. of days: 30 days\n"
     ]
    }
   ],
   "source": [
    "# Apprach1\n",
    "print(\"List of months: January, February, March, April, May, June, July, August, September, October, November, December\")\n",
    "month_name = input(\"Input the name of Month: \")\n",
    "month_name = month_name.capitalize()  # used for initcap\n",
    "if month_name == \"February\":\n",
    "    print(\"No. of days: 28/29 days\")\n",
    "elif month_name in (\"April\", \"June\", \"September\", \"November\"):\n",
    "    print(\"No. of days: 30 days\")\n",
    "elif month_name in (\"January\", \"March\", \"May\", \"July\", \"August\", \"October\", \"December\"):\n",
    "    print(\"No. of days: 31 day\")\n",
    "else:\n",
    "    print(\"Wrong month name\") "
   ]
  },
  {
   "cell_type": "code",
   "execution_count": 74,
   "metadata": {},
   "outputs": [
    {
     "name": "stdout",
     "output_type": "stream",
     "text": [
      "Enter the month number: 12\n",
      "No of days for January/March/May/July/August/October/December: 31 days!!\n"
     ]
    }
   ],
   "source": [
    "#Approach2\n",
    "mon = int(input(\"Enter the month number: \"))\n",
    "if mon>0:\n",
    "    if mon==2:\n",
    "        print(\"No of days for February: 28/29 days!!\")\n",
    "    elif (mon==4 or mon==6 or mon==9 or mon==11):\n",
    "        print(\"No of days for April/June/September/November: 30 days!!\")\n",
    "    elif (mon==1 or mon==3 or mon==5 or mon==7 or mon==8 or mon==10 or mon==12):\n",
    "        print(\"No of days for January/March/May/July/August/October/December: 31 days!!\")\n",
    "    else:\n",
    "        print(\"Wrong Month number!!\")\n",
    "else:\n",
    "    print(\"Please enter month number as positive and greater than 0\")"
   ]
  },
  {
   "cell_type": "markdown",
   "metadata": {},
   "source": [
    "12.  Write a Python program to get next day of a given date."
   ]
  },
  {
   "cell_type": "code",
   "execution_count": 84,
   "metadata": {},
   "outputs": [
    {
     "name": "stdout",
     "output_type": "stream",
     "text": [
      "Input a year: 2020\n",
      "Input a month [1-12]: 06\n",
      "Input a day [1-31]: 02\n",
      "The next date is [yyyy-mm-dd] 2020-6-3.\n"
     ]
    }
   ],
   "source": [
    "year = int(input(\"Input a year: \"))\n",
    "\n",
    "if (year % 400 == 0):\n",
    "    leap_year = True\n",
    "elif (year % 100 == 0):\n",
    "    leap_year = False\n",
    "elif (year % 4 == 0):\n",
    "    leap_year = True\n",
    "else:\n",
    "    leap_year = False\n",
    "\n",
    "month = int(input(\"Input a month [1-12]: \"))\n",
    "\n",
    "if month in (1, 3, 5, 7, 8, 10, 12):\n",
    "    month_length = 31\n",
    "elif month == 2:\n",
    "    if leap_year:\n",
    "        month_length = 29\n",
    "    else:\n",
    "        month_length = 28\n",
    "else:\n",
    "    month_length = 30\n",
    "\n",
    "\n",
    "day = int(input(\"Input a day [1-31]: \"))\n",
    "\n",
    "if day < month_length:\n",
    "    day += 1\n",
    "else:\n",
    "    day = 1\n",
    "    if month == 12:\n",
    "        month = 1\n",
    "        year += 1\n",
    "    else:\n",
    "        month += 1\n",
    "print(\"The next date is [yyyy-mm-dd] %d-%d-%d.\" % (year, month, day))"
   ]
  },
  {
   "cell_type": "markdown",
   "metadata": {},
   "source": [
    "### Python Programming\n",
    "*** Loops ***"
   ]
  },
  {
   "cell_type": "markdown",
   "metadata": {},
   "source": [
    "1.  Print First 10 natural numbers using while loop"
   ]
  },
  {
   "cell_type": "code",
   "execution_count": 10,
   "metadata": {},
   "outputs": [
    {
     "name": "stdout",
     "output_type": "stream",
     "text": [
      "1\t2\t3\t4\t5\t6\t7\t8\t9\t10\t"
     ]
    }
   ],
   "source": [
    "i = 1\n",
    "while i<=10:\n",
    "    print(i,end = '\\t')\n",
    "    i += 1"
   ]
  },
  {
   "cell_type": "markdown",
   "metadata": {},
   "source": [
    "2.  Display -10 to -1 using for loop"
   ]
  },
  {
   "cell_type": "code",
   "execution_count": 15,
   "metadata": {},
   "outputs": [
    {
     "name": "stdout",
     "output_type": "stream",
     "text": [
      "-10\t-9\t-8\t-7\t-6\t-5\t-4\t-3\t-2\t-1\t"
     ]
    }
   ],
   "source": [
    "# Type1\n",
    "list1 = list(range(-10,0,1))\n",
    "for j in list1:\n",
    "    print(j,end = '\\t')\n",
    "    j += 1"
   ]
  },
  {
   "cell_type": "code",
   "execution_count": 31,
   "metadata": {},
   "outputs": [
    {
     "name": "stdout",
     "output_type": "stream",
     "text": [
      "-10\t-9\t-8\t-7\t-6\t-5\t-4\t-3\t-2\t-1\t"
     ]
    }
   ],
   "source": [
    "# Type2\n",
    "for i in range(-10,0):\n",
    "    print(i,end='\\t')"
   ]
  },
  {
   "cell_type": "markdown",
   "metadata": {},
   "source": [
    "3.  Write a python program to print the factorial of a given number"
   ]
  },
  {
   "cell_type": "code",
   "execution_count": 53,
   "metadata": {},
   "outputs": [
    {
     "name": "stdout",
     "output_type": "stream",
     "text": [
      "Enter a number for which you want to do factorial: 5\n",
      "The factorial of 5 is 120\n"
     ]
    }
   ],
   "source": [
    "fact_num = int(input(\"Enter a number for which you want to do factorial: \"))\n",
    "factorial = 1\n",
    "if fact_num < 0:\n",
    "   print(\"Sorry, factorial does not exist for negative numbers\")\n",
    "elif (fact_num == 0 or fact_num == 1 or fact_num == 2):\n",
    "   print(\"The factorial of \",fact_num,' is ',fact_num)\n",
    "else:\n",
    "   for i in range(1,fact_num + 1):\n",
    "       factorial = factorial*i\n",
    "   print(\"The factorial of\",fact_num,'is',factorial)"
   ]
  },
  {
   "cell_type": "markdown",
   "metadata": {},
   "source": [
    "4.  Write a python program to print all prime numbers between 0 to 100 , and print how many prime numbers are there"
   ]
  },
  {
   "cell_type": "code",
   "execution_count": 61,
   "metadata": {},
   "outputs": [
    {
     "name": "stdout",
     "output_type": "stream",
     "text": [
      "The prime numbers between 0 and 100 are: \n",
      "2 3 5 7 11 13 17 19 23 29 31 37 41 43 47 53 59 61 67 71 73 79 83 89 97 \n",
      "\n",
      "The total count is:  25\n"
     ]
    }
   ],
   "source": [
    "print(\"The prime numbers between 0 and 100 are: \")\n",
    "count = 0\n",
    "for num in range(0,100):\n",
    "    if num > 1:\n",
    "        isDivisible = False    #setting the flag, isDivisible so that based on the flag we can verify if it is divisible or not\n",
    "        for index in range(2, num):\n",
    "            if num%index == 0:\n",
    "                isDivisible = True\n",
    "        if not isDivisible:\n",
    "            print(num,end=' ')\n",
    "            count += 1\n",
    "print('\\n')\n",
    "print(\"The total count is: \",count)"
   ]
  },
  {
   "cell_type": "markdown",
   "metadata": {},
   "source": [
    "5.  Print the following pattern :\n",
    "\n",
    "1\n",
    "\n",
    "1 2\n",
    "\n",
    "1 2 3\n",
    "\n",
    "1 2 3 4\n",
    "\n",
    "1 2 3 4 5"
   ]
  },
  {
   "cell_type": "code",
   "execution_count": 43,
   "metadata": {},
   "outputs": [
    {
     "name": "stdout",
     "output_type": "stream",
     "text": [
      "\r\n",
      "1 \r\n",
      "1 2 \r\n",
      "1 2 3 \r\n",
      "1 2 3 4 \r\n",
      "1 2 3 4 5 \r\n"
     ]
    }
   ],
   "source": [
    "for i in range(0, 6): \n",
    "\n",
    "    # inner loop to handle number of columns values changing acc. to outer loop \n",
    "    for j in range(1, i+1): \n",
    " \n",
    "        print(j,end=\" \") \n",
    "\n",
    "    # ending line after each row \n",
    "    print(\"\\r\") "
   ]
  },
  {
   "cell_type": "markdown",
   "metadata": {},
   "source": [
    "6.  Accept n number from user and calculate the sum of all number between 1 and n including n"
   ]
  },
  {
   "cell_type": "code",
   "execution_count": 54,
   "metadata": {},
   "outputs": [
    {
     "name": "stdout",
     "output_type": "stream",
     "text": [
      "Enter your favourite number: 5\n",
      "The Sum of all numbers between 1 and  5  (including  5 ) is:  15\n"
     ]
    }
   ],
   "source": [
    "n = int(input(\"Enter your favourite number: \"))\n",
    "i = 1\n",
    "sum_all = 0\n",
    "for i in range(1,n+1):\n",
    "    sum_all = sum_all + i\n",
    "print(\"The Sum of all numbers between 1 and \",n,\" (including \",n,\") is: \",sum_all)"
   ]
  },
  {
   "cell_type": "markdown",
   "metadata": {},
   "source": [
    "7.  Given a number count the total number of digits in a\n",
    "number."
   ]
  },
  {
   "cell_type": "code",
   "execution_count": 55,
   "metadata": {},
   "outputs": [
    {
     "name": "stdout",
     "output_type": "stream",
     "text": [
      "Enter your favourite number: 15\n",
      "Number of digits :  2\n"
     ]
    }
   ],
   "source": [
    "n = int(input(\"Enter your favourite number: \"))\n",
    "def countDigit(n):\n",
    "    count = 0\n",
    "    while n!= 0:\n",
    "        n //= 10\n",
    "        #print(n)\n",
    "        count += 1\n",
    "    return count\n",
    "\n",
    "print (\"Number of digits : % d\"%(countDigit(n)))"
   ]
  },
  {
   "cell_type": "markdown",
   "metadata": {},
   "source": [
    "8. Write a Python program to create the multiplication table (from 1 to 10) of a number."
   ]
  },
  {
   "cell_type": "code",
   "execution_count": 59,
   "metadata": {},
   "outputs": [
    {
     "name": "stdout",
     "output_type": "stream",
     "text": [
      "Enter your favourite number: 5\n",
      "5 x 1 = 5\n",
      "5 x 2 = 10\n",
      "5 x 3 = 15\n",
      "5 x 4 = 20\n",
      "5 x 5 = 25\n",
      "5 x 6 = 30\n",
      "5 x 7 = 35\n",
      "5 x 8 = 40\n",
      "5 x 9 = 45\n",
      "5 x 10 = 50\n"
     ]
    }
   ],
   "source": [
    "n = int(input(\"Enter your favourite number: \"))\n",
    "for i in range(1,11):\n",
    "    print(n,'x',i,'=',n*i)"
   ]
  },
  {
   "cell_type": "markdown",
   "metadata": {},
   "source": [
    "9.  Reverse the following list using for loop\n",
    "list1 = [10, 20, 30, 40, 50]"
   ]
  },
  {
   "cell_type": "code",
   "execution_count": 39,
   "metadata": {},
   "outputs": [
    {
     "name": "stdout",
     "output_type": "stream",
     "text": [
      "[50, 40, 30, 20, 10]\n"
     ]
    }
   ],
   "source": [
    "# Type 1\n",
    "list1 = [10,20,30,40,50]\n",
    "list1.reverse()\n",
    "print(list1)"
   ]
  },
  {
   "cell_type": "code",
   "execution_count": 40,
   "metadata": {},
   "outputs": [
    {
     "name": "stdout",
     "output_type": "stream",
     "text": [
      "[50, 40, 30, 20, 10]\n"
     ]
    }
   ],
   "source": [
    "# Type 2\n",
    "list1 = [10,20,30,40,50]\n",
    "list2 = list1[::-1]\n",
    "print(list2)"
   ]
  },
  {
   "cell_type": "code",
   "execution_count": 60,
   "metadata": {},
   "outputs": [
    {
     "data": {
      "text/plain": [
       "[50, 40, 30, 20, 10]"
      ]
     },
     "execution_count": 60,
     "metadata": {},
     "output_type": "execute_result"
    }
   ],
   "source": [
    "# Type 3\n",
    "list1 = [10,20,30,40,50]\n",
    "list2 = list(reversed(list1))\n",
    "list2"
   ]
  },
  {
   "cell_type": "markdown",
   "metadata": {},
   "source": [
    "10.  Write a Python program to construct the following pattern, using a nested for loop.\n",
    "\n",
    " \n",
    "##### *\n",
    "##### * *\n",
    "##### * * *\n",
    "##### * * * *\n",
    "##### * * * * *\n",
    "##### * * * *\n",
    "##### * * *\n",
    "##### * *\n",
    "##### *"
   ]
  },
  {
   "cell_type": "code",
   "execution_count": 81,
   "metadata": {},
   "outputs": [
    {
     "name": "stdout",
     "output_type": "stream",
     "text": [
      "\r\n",
      "*  \r\n",
      "*  *  \r\n",
      "*  *  *  \r\n",
      "*  *  *  *  \r\n",
      "*  *  *  *  *  \r\n",
      "*  *  *  *  \r\n",
      "*  *  *  \r\n",
      "*  *  \r\n",
      "*  \r\n"
     ]
    }
   ],
   "source": [
    "for i in range(0, 5): \n",
    "# inner loop to handle number of columns values changing acc. to outer loop \n",
    "    for j in range(1, i+1): \n",
    "\n",
    "        # printing stars \n",
    "        print('* ',end=\" \")\n",
    "\n",
    "    # ending line after each row \n",
    "    print(\"\\r\")\n",
    "# For reversing    \n",
    "for i in range(5, 0 , -1):\n",
    "    for j in range(1, i + 1):\n",
    "        print(\"* \", end=\" \")\n",
    "        \n",
    "    print(\"\\r\")"
   ]
  },
  {
   "cell_type": "markdown",
   "metadata": {},
   "source": [
    "11.Write a Python program that accepts a string and calculate the number of digits and letters."
   ]
  },
  {
   "cell_type": "code",
   "execution_count": 61,
   "metadata": {},
   "outputs": [
    {
     "name": "stdout",
     "output_type": "stream",
     "text": [
      "Please Enter an alphanumeric value: 42034812cn438c4282412421fwfef\n",
      "Digits 21\n",
      "Letters 8\n"
     ]
    }
   ],
   "source": [
    "s = input(\"Please Enter an alphanumeric value: \") \n",
    "d=l=0\n",
    "for c in s:\n",
    "    if c.isdigit():\n",
    "        d += 1\n",
    "    elif c.isalpha():\n",
    "        l += 1\n",
    "    else:\n",
    "        pass\n",
    "print(\"Digits\", d)\n",
    "print(\"Letters\", l)"
   ]
  },
  {
   "cell_type": "markdown",
   "metadata": {},
   "source": [
    "12.  From a list containing ints, strings and floats, make three lists to store them separately."
   ]
  },
  {
   "cell_type": "code",
   "execution_count": 69,
   "metadata": {},
   "outputs": [
    {
     "name": "stdout",
     "output_type": "stream",
     "text": [
      "A list containing INT:  [4, 5, 10]\n",
      "A list containing FLOAT:  [2.5, 3.0]\n",
      "A list containing STR:  ['Prolay Banik']\n"
     ]
    }
   ],
   "source": [
    "list_all = [2.5,3.0,4,\"Prolay Banik\",5,10]\n",
    "integers = []\n",
    "floats = []\n",
    "strings = []\n",
    "\n",
    "for i in list_all:\n",
    "    if type(i) == int:\n",
    "        integers.append(i)\n",
    "    elif type(i) == float:\n",
    "        floats.append(i)\n",
    "    elif type(i) == str:\n",
    "        strings.append(i)\n",
    "    else:\n",
    "        pass\n",
    "print(\"A list containing INT: \",integers)\n",
    "print(\"A list containing FLOAT: \",floats)\n",
    "print(\"A list containing STR: \",strings)"
   ]
  },
  {
   "cell_type": "code",
   "execution_count": null,
   "metadata": {},
   "outputs": [],
   "source": []
  }
 ],
 "metadata": {
  "kernelspec": {
   "display_name": "Python 3",
   "language": "python",
   "name": "python3"
  },
  "language_info": {
   "codemirror_mode": {
    "name": "ipython",
    "version": 3
   },
   "file_extension": ".py",
   "mimetype": "text/x-python",
   "name": "python",
   "nbconvert_exporter": "python",
   "pygments_lexer": "ipython3",
   "version": "3.7.6"
  }
 },
 "nbformat": 4,
 "nbformat_minor": 4
}
